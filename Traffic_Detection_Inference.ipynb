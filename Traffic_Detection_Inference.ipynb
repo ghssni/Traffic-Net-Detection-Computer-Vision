{
  "cells": [
    {
      "cell_type": "markdown",
      "metadata": {},
      "source": [
        "# Introduction"
      ]
    },
    {
      "cell_type": "markdown",
      "metadata": {},
      "source": [
        "Nama: Ghassani Nurbaningtyas\n",
        "Batch: SBY-003\n",
        "\n",
        "This notebook is used to perform inferece on the stored best model using the new image."
      ]
    },
    {
      "cell_type": "markdown",
      "metadata": {
        "id": "J8CQn-_Hh1K0"
      },
      "source": [
        "# Libraries"
      ]
    },
    {
      "cell_type": "code",
      "execution_count": 22,
      "metadata": {
        "id": "jVOzjpcjhZdI"
      },
      "outputs": [],
      "source": [
        "import pandas as pd\n",
        "import numpy as np\n",
        "import tensorflow as tf\n",
        "from tensorflow.keras.models import load_model\n",
        "import keras\n",
        "import keras.utils\n",
        "import warnings\n",
        "warnings.filterwarnings('ignore')"
      ]
    },
    {
      "cell_type": "markdown",
      "metadata": {
        "id": "E53sztmfiGBv"
      },
      "source": [
        "# Load Model"
      ]
    },
    {
      "cell_type": "code",
      "execution_count": 3,
      "metadata": {
        "id": "YXsMyrP1iFZ_"
      },
      "outputs": [
        {
          "name": "stdout",
          "output_type": "stream",
          "text": [
            "WARNING:tensorflow:From c:\\Users\\DELL\\anaconda3\\envs\\python10\\lib\\site-packages\\keras\\src\\backend.py:1398: The name tf.executing_eagerly_outside_functions is deprecated. Please use tf.compat.v1.executing_eagerly_outside_functions instead.\n",
            "\n",
            "WARNING:tensorflow:From c:\\Users\\DELL\\anaconda3\\envs\\python10\\lib\\site-packages\\keras\\src\\layers\\pooling\\max_pooling2d.py:161: The name tf.nn.max_pool is deprecated. Please use tf.nn.max_pool2d instead.\n",
            "\n"
          ]
        }
      ],
      "source": [
        "# Load ANN Model\n",
        "model_ann = load_model('model_seq.h5')"
      ]
    },
    {
      "cell_type": "markdown",
      "metadata": {
        "id": "iU8ADfAvihAq"
      },
      "source": [
        "# Inferencing"
      ]
    },
    {
      "cell_type": "code",
      "execution_count": 27,
      "metadata": {
        "colab": {
          "base_uri": "https://localhost:8080/",
          "height": 80
        },
        "id": "LwtS9EjyidlI",
        "outputId": "5118f59a-6b78-4369-8379-caf961465b3a"
      },
      "outputs": [
        {
          "name": "stdout",
          "output_type": "stream",
          "text": [
            "1/1 [==============================] - 0s 36ms/step\n"
          ]
        }
      ],
      "source": [
        "# Defining testing image\n",
        "\n",
        "test_image = r'C:\\Users\\DELL\\data\\Tugas\\Fase2\\p2-ftds003-sby-g7-ghssni\\images_014.jpg'\n",
        "\n",
        "# Image predict\n",
        "img = keras.preprocessing.image.load_img(test_image, target_size=(220, 220))\n",
        "img_array = keras.preprocessing.image.img_to_array(img)\n",
        "img_array = np.expand_dims(img_array, axis=0)\n",
        "img_array = img_array / 255. # Rescale to [0,1]\n"
      ]
    },
    {
      "cell_type": "markdown",
      "metadata": {
        "id": "JJp0Z6eFjmxZ"
      },
      "source": [
        "# Predict"
      ]
    },
    {
      "cell_type": "code",
      "execution_count": null,
      "metadata": {},
      "outputs": [],
      "source": [
        "# Predict the image\n",
        "predictions = model_ann.predict(img_array)\n",
        "score = tf.nn.softmax(predictions[0])"
      ]
    },
    {
      "cell_type": "code",
      "execution_count": 31,
      "metadata": {},
      "outputs": [
        {
          "name": "stdout",
          "output_type": "stream",
          "text": [
            "Predicted label: Fire\n"
          ]
        }
      ],
      "source": [
        "# Find the predicted label\n",
        "predicted_label = np.argmax(score)\n",
        "\n",
        "if predicted_label == 0:\n",
        "    predicted_label = 'Accident'\n",
        "elif predicted_label == 1:\n",
        "    predicted_label = 'Dense Traffic'\n",
        "elif predicted_label == 2:\n",
        "    predicted_label = 'Fire'\n",
        "else:\n",
        "    predicted_label = 'Sparse Traffic'\n",
        "\n",
        "# Print the predicted label\n",
        "print(\"Predicted label:\", predicted_label)"
      ]
    },
    {
      "cell_type": "markdown",
      "metadata": {},
      "source": [
        "The model successfully detects the inference data"
      ]
    }
  ],
  "metadata": {
    "colab": {
      "provenance": []
    },
    "kernelspec": {
      "display_name": "Python 3",
      "name": "python3"
    },
    "language_info": {
      "codemirror_mode": {
        "name": "ipython",
        "version": 3
      },
      "file_extension": ".py",
      "mimetype": "text/x-python",
      "name": "python",
      "nbconvert_exporter": "python",
      "pygments_lexer": "ipython3",
      "version": "3.9.13"
    }
  },
  "nbformat": 4,
  "nbformat_minor": 0
}
